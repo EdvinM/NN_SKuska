{
 "cells": [
  {
   "cell_type": "markdown",
   "metadata": {},
   "source": [
    "## Remainder - Next week Project Proposals\n",
    "\n",
    "## TensorFlow\n",
    "\n",
    "TensorFlow (TF) is a state-of-the-art framework for neural network development, training and deployment. Practically no one implement the neural network models from scratch anymore, because:\n",
    "\n",
    "1. The building blocks, such as different kinds of layers, loss function, optimization algorithms, etc. are quite standardized and we mostly use the same blocks over and over again. From this point of view neural networks today can actually be built from existing blocks. Frameworks, such as TF, offer these building blocks so you do not have to implement them from scratch.\n",
    "2. Modern frameworks are also able of auto-differentiation. We do not have to calculate the derivatives of the loss function w.r.t. parameters. Instead these quantities are derived automatically.\n",
    "3. Additional stuff - visualization, training loops, etc.\n",
    "\n",
    "We will use TensorFlow 2.0 in this notebook. This version of TF provides several ways of how we define the models, so called APIs. We will use _model subclassing_ API here and in future labs. TF also has two other APIs for model definition [sequential model](https://www.tensorflow.org/guide/keras#sequential_model) and [low-level API](https://www.tensorflow.org/guide/low_level_intro) and subclassing - we use functional. You do not have to know how these APIs work, but you are encouraged to read about them to have a general intuition of what TF has to offer."
   ]
  },
  {
   "cell_type": "code",
   "execution_count": null,
   "metadata": {},
   "outputs": [],
   "source": []
  },
  {
   "cell_type": "markdown",
   "metadata": {},
   "source": [
    "In `__init__` we define the layers and then in `call` we define how the inputs of the network are processed, i.e. how the prediction of the network is calculated.\n",
    "\n",
    "- layers - These are the basic computational units of TF networks. They are defined in model initialization and then called in the\n",
    "\n",
    "This is how a model is defined in TF. Then the training of this model is simple as:\n",
    "\n",
    "fit()\n",
    "\n",
    "fit provides us a very general API of training a network. Check the documentation to see various parameters. It implements the general training loop, e.g. shuffling the data, breaking them into batches and optimizing the loss function. Then we also need a loss function defined - we can implement our own loss function, or use some pre-defined in the tf.keras.losses.\n",
    "\n",
    "Programming assignemnt: Implement in TF Model MLP - customizable layer count and size, monitor accuracy\n",
    "\n",
    "Programming assignment: Try using softmax + crossentropy for classification - compare the two models.\n",
    "\n",
    "## TensorBoard\n",
    "\n",
    "Add callbacks to model\n",
    "...\n",
    "\n",
    "Exercise: see some guides or tutorials - whatever\n",
    "\n",
    "## tf.data\n",
    "\n",
    "## tf.Debugger?\n",
    "\n",
    "Nejaky raw dataset a treba ho nacitat?\n",
    "\n",
    "## Validation dataset and Early stopping\n",
    "\n",
    "Test . dev . test\n",
    "\n",
    "loss function vs evaluation metric\n",
    "\n",
    "early stopping\n",
    "\n",
    "PA: in TF - model.evaluate(), fit(validation_data), early stopping callback()\n",
    "PA: in Python - do the same\n",
    "\n",
    "## PyTorch\n",
    "\n",
    "PyTorch is the second most popular neural network framework. It is \n"
   ]
  },
  {
   "cell_type": "code",
   "execution_count": null,
   "metadata": {},
   "outputs": [],
   "source": []
  }
 ],
 "metadata": {
  "kernelspec": {
   "display_name": "Python 3",
   "language": "python",
   "name": "python3"
  },
  "language_info": {
   "codemirror_mode": {
    "name": "ipython",
    "version": 3
   },
   "file_extension": ".py",
   "mimetype": "text/x-python",
   "name": "python",
   "nbconvert_exporter": "python",
   "pygments_lexer": "ipython3",
   "version": "3.6.8"
  }
 },
 "nbformat": 4,
 "nbformat_minor": 2
}
