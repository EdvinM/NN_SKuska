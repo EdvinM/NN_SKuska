{
 "cells": [
  {
   "cell_type": "markdown",
   "metadata": {},
   "source": [
    "# Week 1\n",
    "\n",
    "__Goals for this week__\n",
    "\n",
    "We will talk about the organization of this course, including the project you will be working on during this semester. We will go through the prerequisites of this course, i.e. several topics you should know before we can proceed further with our neural networks study.\n",
    "\n",
    "__How to solve this lab?__\n",
    "\n",
    "Just follow this notebook and run all the code cells. Correct answers for some exercises are provided at the bottom.\n",
    "\n",
    "## Course Information\n",
    "\n",
    "- __Programming assignments [10 pts]:__ Some labs will have short Python programming assignments. Each will be worth 2 points. You are expected to complete these assignments in one week and submit your code.\n",
    "- __Project [40 pts]:__ You will work in pairs on a deep learning project throughout the entire semester. You are expected to consult your progress during the labs and present your solution at the end of semester. \n",
    "- __Exam [50 pts]__\n",
    "\n",
    "Please check the [Project](../project/project.ipynb) page _right now_ for more information about how to proceed with your project from now on.\n",
    "\n",
    "### Feedback\n",
    "\n",
    "- Please use [Askalot](https://askalot.fiit.stuba.sk/fiit/) for all the questions that might be interesting for other students. You can also use it as a general discussion board for this course.\n",
    "- You can fill our [questionnaire]() after each lab. This questionnaire gives us information about what the students struggle with during this course.\n",
    "- These notebooks are a work in progress. If you notice a mistake, notify us, raise an issue or make a pull request on [GitHub](https://github.com/matus-pikuliak/neural_networks_at_fiit).\n",
    " \n",
    "## Prerequisites\n",
    "\n",
    "Prerequisites are topics that you should already be familiar with from your previous study. If you have troubles with some of them, you should review them during this week.\n",
    "\n",
    "### Python\n",
    "\n",
    "We will use _Python 3.6_ in our labs. We assume that you have seen Python code before. If you have not, you should learn the basics as soon as possible (e.g. [W3Schools tutorial](https://www.w3schools.com/python/default.asp))). We review the basic concepts in the scripts below. You should understand it fully, otherwise review your knowledge before you proceed."
   ]
  },
  {
   "cell_type": "code",
   "execution_count": null,
   "metadata": {},
   "outputs": [],
   "source": [
    "# Basic types\n",
    "5      # integer\n",
    "5.1    # float\n",
    "'foo'  # string\n",
    "True\n",
    "False  # boolean operands\n",
    "None  # null-like operand\n",
    "\n",
    "# Type conversion\n",
    "float('5.2')\n",
    "int(5.2)\n",
    "str(5.2)\n",
    "\n",
    "# Basic operations\n",
    "a = 2 + 5 - 2.5\n",
    "a += 3\n",
    "b = 2 ** 3  # exponentiation\n",
    "print(a, b)\n",
    "print(5 / 2)\n",
    "print(5 // 2)  # Notice the difference between these two\n",
    "'foo' + 'bar'\n",
    "\n",
    "# F-strings\n",
    "print(f'1 + 2 = {1 + 2}, a = {a}')\n",
    "print('1 + 2 = {1 + 2}, a = {a}')  # We need the f at the start for {} to work as expression wrappers.\n"
   ]
  },
  {
   "cell_type": "code",
   "execution_count": null,
   "metadata": {},
   "outputs": [],
   "source": [
    "# Conditions\n",
    "if a > 4 and b < 3:  # and, or and not are the basic logical operators\n",
    "    print('a')\n",
    "elif b > 5:\n",
    "    print('b')\n",
    "else:\n",
    "    print('c')   # Indentation by spaces or tabs tells us where the statement belongs. print('c') is in the else.\n",
    "print('d')       # But print('d') is outside, it will print every time.\n",
    "\n",
    "# Loops\n",
    "while a < 10:\n",
    "    if b > 3:\n",
    "        a += 1  # More indentation for code that is \"deeper\"\n",
    "    else:\n",
    "        a += 2\n",
    "print(f'a = {a}')\n",
    "\n",
    "# while loops are not considered 'pythonic', instead for loops are more common\n",
    "# We will return to them later\n",
    "for char in 'string':\n",
    "    print(char)\n",
    "    "
   ]
  },
  {
   "cell_type": "code",
   "execution_count": null,
   "metadata": {},
   "outputs": [],
   "source": [
    "# Functions\n",
    "def example(a, b=1, c=1):  # b and c have default values\n",
    "    return a*b, a*c  # we return two values at the same time\n",
    "\n",
    "a, b = example(1, 2, 3)  # and we can assign both values at the same time as well\n",
    "print(a, b)\n",
    "print(example(4))\n",
    "print(example(5, 2))\n",
    "print(example(5, c=2))  # Notice how do the arguments behave\n",
    "    \n",
    "# Classes\n",
    "class A:\n",
    "    \n",
    "    def __init__(self, b):  # Constructor\n",
    "        self.b = b  # Object variable\n",
    "        \n",
    "    def add_to_b(self, c):  # self is always the first argument and it references the object itself\n",
    "        self.b += c\n",
    "        \n",
    "    def sub_from_b(self, c):\n",
    "        self.add_to_b(-c)  # Calling object method\n",
    "        \n",
    "a = A(5)\n",
    "a.add_to_b(1)\n",
    "print(a.b)\n",
    "a.sub_from_b(2)\n",
    "print(a.b)\n"
   ]
  },
  {
   "cell_type": "code",
   "execution_count": null,
   "metadata": {},
   "outputs": [],
   "source": [
    "# Lists\n",
    "a = [1, 2, 3, 'foo']\n",
    "len(a)  # Length\n",
    "a[1]  # Second element\n",
    "print(a[1:3])  # Second to third element\n",
    "a.append(4)  # Adding at the end\n",
    "del a[3]  # Removing at the index\n",
    "[]  # Empty array\n",
    "print(a)\n",
    "\n",
    "# This is why for loops are used more often\n",
    "for el in a:\n",
    "    print(el + 1)\n",
    "    \n",
    "# We can define lists with list comprehension statements\n",
    "b = [el + 2 for el in a]\n",
    "print(b)\n"
   ]
  },
  {
   "cell_type": "code",
   "execution_count": 14,
   "metadata": {},
   "outputs": [
    {
     "name": "stdout",
     "output_type": "stream",
     "text": [
      "bar\n",
      "[1, 2, 3]\n",
      "\n",
      " Keys:\n",
      "5\n",
      "4\n",
      "nested\n",
      "bar\n",
      "\n",
      "Keys and values:\n",
      "5 : five\n",
      "4 : four\n",
      "nested : [1, 2, 3]\n",
      "bar : foo\n",
      "{1: 1, 2: 4, 3: 9, 4: 16}\n"
     ]
    }
   ],
   "source": [
    "# Dictionaries - key-based structures\n",
    "a = {\n",
    "    'foo': 'bar',\n",
    "    5: 'five',\n",
    "    4: 'four',\n",
    "    'nested': [1, 2, 3]\n",
    "}\n",
    "print(a['foo'])\n",
    "a['bar'] = 'foo'\n",
    "if 'nested' in a:  # Does key exist?\n",
    "    print(a['nested'])\n",
    "{}  # Empty\n",
    "del a['foo']  # Remove record\n",
    "    \n",
    "print()\n",
    "print('Keys:')\n",
    "for key in a:\n",
    "    print(key)\n",
    "    \n",
    "print()\n",
    "print('Keys and values:')\n",
    "for key, value in a.items():\n",
    "    print(key, ':', value)\n",
    "    \n",
    "# Dictionaries can be also defined via comprehension statement\n",
    "a = {i: i**2 for i in [1, 2, 3, 4]}\n",
    "print(a)"
   ]
  },
  {
   "cell_type": "code",
   "execution_count": null,
   "metadata": {},
   "outputs": [],
   "source": [
    "# Several useful iterators\n",
    "print('range')\n",
    "for i in range(5):\n",
    "    print(i)\n",
    "    \n",
    "print()\n",
    "print('enumerate')\n",
    "lowercase = ['a', 'b', 'c']\n",
    "for i, el in enumerate(lowercase):\n",
    "    print(i, el)\n",
    "    \n",
    "print()\n",
    "print('zip')\n",
    "uppercase = ['A', 'B', 'C']\n",
    "for a, b in zip(lowercase, uppercase):\n",
    "    print(a, b)"
   ]
  },
  {
   "cell_type": "markdown",
   "metadata": {},
   "source": [
    "### Linear Algebra\n",
    "\n",
    "Neural network models can be defined using vectors and matrices, i.e. concepts from linear algebra. You should know how basic linear operations work. Some of the concepts were covered during your _Algebra and Discrete Mathematics_ course. Read the provided links to review neccessary topics and solve the exercises.\n",
    "\n",
    "In these labs we will use italic for scalars $x$, lowercase bold for vectors $\\mathbf{x}$ and uppercase bold for matrices $\\mathbf{X}$. Please, keep this notation in mind.\n",
    "\n",
    "#### Vectors\n",
    "- [On vectors](https://www.mathsisfun.com/algebra/vectors.html)\n",
    "- [On dot product](https://www.mathsisfun.com/algebra/vectors-dot-product.html)\n",
    "\n",
    "__Exercise 1.1:__ Calculate the following:\n",
    "\n",
    "$\n",
    "\\begin{align}\n",
    "\\mathbf{a} = \\begin{bmatrix}0 \\\\ 1 \\\\ 3 \\end{bmatrix} \\ \\\n",
    "\\mathbf{b} = \\begin{bmatrix}2 \\\\ 4 \\\\ 1 \\end{bmatrix}\n",
    "\\end{align} \\\\\n",
    "5\\mathbf{a} = ?\\\\\n",
    "\\mathbf{a} + \\mathbf{b} = ?\\\\\n",
    "\\mathbf{a} \\cdot \\mathbf{b} = ?\\\\\n",
    "||\\mathbf{a}|| = ?\n",
    "$\n",
    "\n",
    "__Exercise 1.2:__ How would you quickly check whether or not two vectors (e.g. $\\mathbf{a}$ and $\\mathbf{b}$) are orthogonal (perpendicular)?\n",
    "\n",
    "__Exercise 1.3:__ Is $\\mathbf{a}$ longer than $\\mathbf{b}$?\n",
    "\n",
    "#### Matrices\n",
    "- [On matrices](https://www.mathsisfun.com/algebra/matrix-introduction.html)\n",
    "- [On matrix multiplication](https://www.mathsisfun.com/algebra/matrix-multiplying.html)\n",
    "\n",
    "__Exercise 1.4:__ Calculate the following:\n",
    "\n",
    "$\n",
    "\\begin{align}\n",
    "\\mathbf{C} = \\begin{bmatrix}0 & 2 \\\\ 1 & 2 \\end{bmatrix} \\ \\\n",
    "\\mathbf{d} = \\begin{bmatrix}4 \\\\ 1 \\end{bmatrix}\n",
    "\\end{align} \\\\\n",
    "\\mathbf{C}\\mathbf{d} = ?\\\\\n",
    "\\mathbf{d}^T \\mathbf{C} - \\mathbf{d}^T = ?\\\\\n",
    "\\mathbf{C}^T\\mathbf{d} = ?\\\\\n",
    "\\mathbf{C}\\mathbf{d}^T = ?\n",
    "$\n",
    "\n",
    "__Exercise 1.5:__ Express the result of general matrix-vector product $\\mathbf{Wx}$ as a vector of dot products. Can you do the same with $\\mathbf{x}^T\\mathbf{W}$?\n",
    "\n",
    "### NumPy\n",
    "\n",
    "Numpy is a popular Python library for scientific computation. It provides a convenient way of working with vectors and matrices. \n"
   ]
  },
  {
   "cell_type": "code",
   "execution_count": 2,
   "metadata": {
    "scrolled": true
   },
   "outputs": [
    {
     "name": "stdout",
     "output_type": "stream",
     "text": [
      "[ 0  5 15]\n",
      "[1 5 4]\n",
      "7\n",
      "3.1622776601683795\n"
     ]
    }
   ],
   "source": [
    "import numpy as np\n",
    "\n",
    "# Creating vectors\n",
    "a = np.array([0, 1, 3])\n",
    "b = np.array([1, 4, 1])\n",
    "\n",
    "# Basic operations, results for E 1.1\n",
    "print(5 * a)\n",
    "print()\n",
    "print(a + b)\n",
    "print()\n",
    "print(np.dot(a, b))\n",
    "print()\n",
    "print(np.linalg.norm(a))"
   ]
  },
  {
   "cell_type": "code",
   "execution_count": null,
   "metadata": {},
   "outputs": [],
   "source": [
    "# Creating matrices\n",
    "# First way:\n",
    "W = np.array([\n",
    "    [1, 2],\n",
    "    [3, 4]\n",
    "])\n",
    "\n",
    "# Second way:\n",
    "W = np.array([1, 2, 3, 4]).reshape(2, 2)\n",
    "\n",
    "# There is a difference between a 1-D vector and a column matrix in numpy:\n",
    "a = np.array([1, 2])  # This is a vector\n",
    "b = np.array([  # This is a matrix\n",
    "    [1],\n",
    "    [2]\n",
    "])\n",
    "\n",
    "# First let's see the dimensions of these two\n",
    "print(a.shape)\n",
    "print(b.shape)\n"
   ]
  },
  {
   "cell_type": "code",
   "execution_count": null,
   "metadata": {},
   "outputs": [],
   "source": [
    "# Then we can multiply them with W using np.matmul or @ matrix multiplication operator\n",
    "print(W @ a)\n",
    "print(W @ b)\n"
   ]
  },
  {
   "cell_type": "markdown",
   "metadata": {},
   "source": [
    "__Exercise 1.6:__ What is the difference between the two results from previous code cell?\n",
    "\n",
    "__Exercise 1.7:__ Solve Exercise 1.4 in NumPy. Use `np.array.T` for transposing.\n"
   ]
  },
  {
   "cell_type": "code",
   "execution_count": null,
   "metadata": {},
   "outputs": [],
   "source": [
    "C = ...\n",
    "d = ...\n"
   ]
  },
  {
   "cell_type": "code",
   "execution_count": 15,
   "metadata": {},
   "outputs": [
    {
     "data": {
      "text/plain": [
       "array([4, 6])"
      ]
     },
     "execution_count": 15,
     "metadata": {},
     "output_type": "execute_result"
    }
   ],
   "source": [
    "# Indexing, i.e. selecting elements from an array\n",
    "\n",
    "W = np.array([\n",
    "    [1, 2, 3],\n",
    "    [4, 5, 6],\n",
    "    [7, 8, 9]\n",
    "])\n",
    "\n",
    "W[1, 1]  # Element from second row of second column\n",
    "W[0]  # First row\n",
    "W[[0, 2]]  # First AND third row\n",
    "W[:, 0]  # First column\n",
    "W[1, [0, 2]]  # First AND third column of second row"
   ]
  },
  {
   "cell_type": "markdown",
   "metadata": {},
   "source": [
    "### Derivatives\n",
    "\n",
    "The final topic we need to cover are derivatives. Basically all of neural network training is currently based on methods that calculate the derivatives with respect to (w.r.t.) parameters of the model. We need you to have the intuition about how derivatives work. Review what you learnt during your _Calculus_ course (Matematická analýza).\n",
    "\n",
    "Derivatives\n",
    "\n",
    "Function with multiple variables can be derived w.r.t to individual variables. These derivatives are called partial derivations:  mathfun\n",
    "\n",
    "Gradient\n",
    "\n",
    "<a title=\"en:User:Dino, User:Lfahlberg [CC BY-SA 3.0 (https://creativecommons.org/licenses/by-sa/3.0)], via Wikimedia Commons\" href=\"https://commons.wikimedia.org/wiki/File:Tangent_function_animation.gif\"><img width=\"256\" alt=\"Tangent function animation\" src=\"https://upload.wikimedia.org/wikipedia/commons/2/2d/Tangent_function_animation.gif\"></a>\n",
    "\n",
    "## Correct Answers\n",
    "\n",
    "__E 1.1:__ ...\n",
    "\n",
    "__E 1.2:__ Check whether $\\mathbf{a} \\cdot \\mathbf{b} = 0$. Note, that the angle between a vector and a zero vector is not defined.\n",
    "\n",
    "__E 1.3:__ No, $||\\mathbf{a}|| < ||\\mathbf{b}||$"
   ]
  },
  {
   "cell_type": "code",
   "execution_count": null,
   "metadata": {},
   "outputs": [],
   "source": []
  }
 ],
 "metadata": {
  "kernelspec": {
   "display_name": "Python 3",
   "language": "python",
   "name": "python3"
  },
  "language_info": {
   "codemirror_mode": {
    "name": "ipython",
    "version": 3
   },
   "file_extension": ".py",
   "mimetype": "text/x-python",
   "name": "python",
   "nbconvert_exporter": "python",
   "pygments_lexer": "ipython3",
   "version": "3.6.8"
  }
 },
 "nbformat": 4,
 "nbformat_minor": 2
}
