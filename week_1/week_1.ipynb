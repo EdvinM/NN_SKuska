{
 "cells": [
  {
   "cell_type": "markdown",
   "metadata": {},
   "source": [
    "# Week 1"
   ]
  },
  {
   "cell_type": "markdown",
   "metadata": {},
   "source": [
    "### Linear Algebra\n",
    "\n",
    "Neural network models can be defined using vectors and matrices, i.e. concepts from linear algebra. You should know how basic linear operations work. Some of the concepts were covered during your _Algebra and Discrete Mathematics_ course. Read the provided links to review neccessary topics (note that there are some questions at the end of each page) and solve the exercises in this notebook.\n",
    "\n",
    "#### Vectors\n",
    "- [On vectors](https://www.mathsisfun.com/algebra/vectors.html)\n",
    "- [On dot product](https://www.mathsisfun.com/algebra/vectors-dot-product.html)\n",
    "\n",
    "### NumPy\n",
    "\n",
    "Numpy is a popular Python library for scientific computation. It provides a convenient way of working with vectors and matrices. \n"
   ]
  },
  {
   "cell_type": "markdown",
   "metadata": {},
   "source": [
    "### Derivatives\n",
    "- Almost all of neural network training done in practice is currently based on methods that calculate the derivatives with respect to (w.r.t.) parameters of the model.\n",
    "- Partial derivatives are applied when we derive a function with more than one variable. In such case we can actually derive a function in any direction.\n",
    "\n",
    "### Gradient\n",
    "- Vector of derivatives w.r.t. all the parameters is called a _gradient_. \n",
    "Generaly for function $f$ with arbitrary number of parameters $x_1. x_2, ..., x_N = \\mathbf{x}$, the gradient $\\triangledown f$ is defined as:\n",
    "\n",
    "\\begin{equation}\n",
    "\\triangledown f(\\mathbf{x}) = \\frac{df}{d\\mathbf{x}} = \\begin{bmatrix}\\frac{df}{dx_1} \\\\ \\frac{df}{dx_2} \\\\ \\vdots \\\\ \\frac{df}{dx_N} \\end{bmatrix}\n",
    "\\end{equation}\n",
    "\n",
    "Gradient is the most important concept from this week's lab. The gradient is a vector quantity that tells us the _direction of steepest ascent_ at each point. This is a very important property, which we will often use in the following weeks. The magnitude of this vector tells us how steep this ascent is, i.e. what is the slope of the tangent in the direction of the gradient.\n",
    "\n",
    "To cpmpare _derivative_ and _gradient_:\n",
    "\n",
    "- _Derivative_ is a quantity that tells us, what is the rate of change in given direction.\n",
    "- _Gradient_ is a quantity that tells us what is the direction of the steepest rate of change, along with the rate of this change.\n",
    "\n",
    "Observe the difference between these two concepts in the Figure below. All the plots show the same function $F(x,y) = \\sin(x) \\cos(y)$. In first two plots we shot the derivatives w.r.t $y$ and $x$ respectively. These are shown as white arrows. Notice that they all point in one direction. On the other hand in the last plot we show the gradients. If we interpret the derivatives from the two previous plots as vectors, these gradients are in fact their sum.\n",
    "\n",
    "![Derivatives and gradient](images/derivatives.svg)\n",
    "\n",
    "__Exercise 1.8:__ Calculate the following. All the derivative rules you need to know are $(af)' = af'$, $(f + g)' = f' + g'$ and $(x^k)' = kx^{k-1}$.\n",
    "\n",
    "$\n",
    "f(x^2 + y^2 + 2x)\\\\\n",
    "\\frac{df}{dx}=?\\\\\n",
    "\\frac{df}{dy}=?\\\\\n",
    "\\triangledown f(x, y) = ?\\\\\n",
    "\\\\\n",
    "g(x_1, x_2, \\dots, x_N) = g(\\mathbf{x}) = \\mathbf{a} \\cdot \\mathbf{x}\\\\\n",
    "\\triangledown g(\\mathbf{x}) = ?\n",
    "$\n",
    "\n",
    "## Correct Answers\n",
    "\n",
    "__E 1.1:__\n",
    "\n",
    "$\n",
    "5\\mathbf{a} = \\begin{bmatrix}0 \\\\ 5 \\\\ 15 \\end{bmatrix} \\\\\n",
    "\\mathbf{a} + \\mathbf{b} = \\begin{bmatrix}1 \\\\ 5 \\\\ 4 \\end{bmatrix} \\\\\n",
    "\\mathbf{a} \\cdot \\mathbf{b} = 7\\\\\n",
    "||\\mathbf{a}|| = \\sqrt{10} = 3.162\n",
    "$\n",
    "\n",
    "__E 1.2:__ Check whether $\\mathbf{a} \\cdot \\mathbf{b} = 0$. Note, that the angle between a vector and a zero vector is not defined.\n",
    "\n",
    "__E 1.3:__ No, $||\\mathbf{a}|| < ||\\mathbf{b}||$\n",
    "\n",
    "__E 1.4:__\n",
    "\n",
    "$\n",
    "\\mathbf{C}\\mathbf{d} = \\begin{bmatrix}2 \\\\ 6 \\end{bmatrix} \\\\\n",
    "\\mathbf{d}^T \\mathbf{C} - \\mathbf{d}^T = \\begin{bmatrix}-3 & 9 \\end{bmatrix} \\\\\n",
    "\\mathbf{C}^T\\mathbf{d} = \\begin{bmatrix}1 \\\\ 10 \\end{bmatrix} \\\\\n",
    "$\n",
    "\n",
    "The last term $\\mathbf{C}\\mathbf{d}^T$ is not valid. You can not multiply two matrices with dimensions $2 \\times 2$ and $1 \\times 2$.\n",
    "\n",
    "__E 1.5:__ $\\mathbf{Wx}$ can be expressed as a column vector $[\\mathbf{w_1} \\cdot \\mathbf{x}, \\mathbf{w_2} \\cdot \\mathbf{x}, \\dots, \\mathbf{w_N} \\cdot \\mathbf{x} ]^T$. where $\\mathbf{w_k}$ is $k$-th row of $\\mathbf{W}$. $\\mathbf{x}^T\\mathbf{W}$ can be expressed as a row vector $[\\mathbf{w_{*,1}} \\cdot \\mathbf{x}, \\mathbf{w_{*,2}} \\cdot \\mathbf{x}, \\dots, \\mathbf{w_{*,N}} \\cdot \\mathbf{x} ]$. where $\\mathbf{w_{*,k}}$ is $k$-th _column_ of $\\mathbf{W}$.\n",
    "\n",
    "__E 1.8:__\n",
    "\n",
    "$\n",
    "\\frac{df}{dx}= 2x + 2\\\\\n",
    "\\frac{df}{dy}= 2y\\\\\n",
    "\\triangledown f(x, y)  = \\begin{bmatrix}2x + 2 \\\\ 2y \\end{bmatrix} \\\\\n",
    "\\triangledown g(\\mathbf{x})  = \\mathbf{a}\n",
    "$"
   ]
  },
  {
   "cell_type": "code",
   "execution_count": null,
   "metadata": {},
   "outputs": [],
   "source": []
  }
 ],
 "metadata": {
  "kernelspec": {
   "display_name": "Python 3",
   "language": "python",
   "name": "python3"
  },
  "language_info": {
   "codemirror_mode": {
    "name": "ipython",
    "version": 3
   },
   "file_extension": ".py",
   "mimetype": "text/x-python",
   "name": "python",
   "nbconvert_exporter": "python",
   "pygments_lexer": "ipython3",
   "version": "3.7.5"
  }
 },
 "nbformat": 4,
 "nbformat_minor": 2
}
