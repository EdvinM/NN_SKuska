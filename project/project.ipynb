{
 "cells": [
  {
   "cell_type": "markdown",
   "metadata": {},
   "source": [
    "# Project\n",
    "\n",
    "projects in pairs?\n",
    "ML core must be done so that both students understand what is happening\n",
    "by default NLP project, but other domains are permitted\n",
    "\n",
    "Useful hints for ML projects - karpathy’s blog, ML project stucture, Ng’s second course some weeks\n",
    "\n",
    "5th week - Project Proposal\n",
    "- what to select\n",
    "- what should be included in proposal\n",
    "\n",
    "9/10th week - Checkpoint\n",
    "- what should be done\n",
    "- what should be documented\n",
    "\n",
    "11th/12th week Finish\n",
    "- what should be done\n",
    "- what should be documented\n",
    "- what should be put in presentation"
   ]
  }
 ],
 "metadata": {
  "kernelspec": {
   "display_name": "Python 3",
   "language": "python",
   "name": "python3"
  },
  "language_info": {
   "codemirror_mode": {
    "name": "ipython",
    "version": 3
   },
   "file_extension": ".py",
   "mimetype": "text/x-python",
   "name": "python",
   "nbconvert_exporter": "python",
   "pygments_lexer": "ipython3",
   "version": "3.6.8"
  }
 },
 "nbformat": 4,
 "nbformat_minor": 2
}
