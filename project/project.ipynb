{
 "cells": [
  {
   "cell_type": "markdown",
   "metadata": {},
   "source": [
    "# Project\n",
    "\n",
    "You will work in pairs on your deep learning project throughout the semester. In general you are expected to propose your own project, implement a neural network model and perform a series of experiments on it. You are also expected to proactively consult your progress during the labs.\n",
    "\n",
    "### Working in pairs\n",
    "__Both students have to put a significant effort into this project.__ The amount of effort put into project by each student will be taken into account during the grading. You will be asked to evaluate your and your partner's effort at the end of the project.\n",
    "\n",
    "## 1st week: Kick-off\n",
    "\n",
    "1. Create pairs.\n",
    "2. Create a public GitHub repository for your project.\n",
    "3. Register your pair to our [projects sheet]() along with the GitHub link.\n",
    "4. Start thinking about your project proposal.\n",
    "\n",
    "## 5th week: Proposal\n",
    "\n",
    "### Ispiration\n",
    "\n",
    "https://github.com/firmai/industry-machine-learning#agriculture-econ\n",
    "https://github.com/firmai/business-machine-learning\n",
    "https://paperswithcode.com/sota\n",
    "https://cs230.stanford.edu/past-projects/\n",
    "\n",
    "### How to select a good project\n",
    "\n",
    "no reinforcement\n",
    "interesting data modality (text, image, sound, ...)\n",
    "applied, but also basic research is permitted\n",
    "NLP is recommended, but not required\n",
    "collision with projects from other courses must be consulted before\n",
    "\n",
    "### Project proposal\n",
    "\n",
    "\n",
    "## 9/10th week: Checkpoint\n",
    "- what should be done\n",
    "- what should be documented\n",
    "\n",
    "## 11th/12th week: Finish\n",
    "- what should be done\n",
    "- what should be documented\n",
    "- what should be put in presentation"
   ]
  },
  {
   "cell_type": "code",
   "execution_count": null,
   "metadata": {},
   "outputs": [],
   "source": []
  }
 ],
 "metadata": {
  "kernelspec": {
   "display_name": "Python 3",
   "language": "python",
   "name": "python3"
  },
  "language_info": {
   "codemirror_mode": {
    "name": "ipython",
    "version": 3
   },
   "file_extension": ".py",
   "mimetype": "text/x-python",
   "name": "python",
   "nbconvert_exporter": "python",
   "pygments_lexer": "ipython3",
   "version": "3.6.8"
  }
 },
 "nbformat": 4,
 "nbformat_minor": 2
}
