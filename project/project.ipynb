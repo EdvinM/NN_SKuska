{
 "cells": [
  {
   "cell_type": "markdown",
   "metadata": {},
   "source": [
    "# Project\n",
    "\n",
    "You will work in pairs on your deep learning project throughout the semester. In general you are expected to propose your own project, implement a neural network model and perform a series of experiments on it. You are also expected to proactively consult your progress during the labs.\n",
    "\n",
    "### Working in pairs\n",
    "__Both students have to put a significant effort into this project.__ The amount of effort put into project by each student will be taken into account during the grading. You will be asked to evaluate your and your partner's effort at the end of the project.\n",
    "\n",
    "## 1st week: Kick-off\n",
    "\n",
    "1. Create teams of two people.\n",
    "2. Create a public GitHub repository for your project.\n",
    "3. Register your team to our [projects sheet](https://docs.google.com/spreadsheets/d/13yO3o9m_vrOiAv0dd2P8GvLBK_Q3quoz_X1uByZ94IY/edit?usp=sharing) (accessible from your G Suite account) along with the GitHub link.\n",
    "4. Start thinking about your project proposal.\n",
    "\n",
    "## 5th week: Proposal\n",
    "\n",
    "By 5th week you are expected to submit your project proposal. This proposal needs to be consulted with your teacher during the first 4 weeks.\n",
    "\n",
    "Your project will consist of _(1)_ implementing a neural network model, _(2)_ training it with data and _(3)_ evaluating the results from the experiments with this model. It is your task to propose what exactly will your model will do, i.e. whether it will be a model capable of translating text, a computer vision model classifying dogs, a speech-to-text model or something completely different. For these _applied_ projects we expect you to work with non-trivial data modalities, such as text, images, sound, etc. You can also instead work on more _basic research_ project and experiment with novel learning algorithms and techniques. \n",
    "\n",
    "If you solve/d similar project elsewhere (e.g. different project, team project, master thesis), you need to acknowledge this overlap beforehand. You can not submit the same work more than one time. Instead we will probably ask you to expand on the existing work.\n",
    "\n",
    "We do not recommend _reinforcement learning_ projects, i.e. projects when you train your own agent to play a game. These models are notoriously hard to train and their training might take significant time. Very simple toy games might be an exception.\n",
    "\n",
    "### Inspiration\n",
    "\n",
    "There are tons of interesting websites, blogs, newsletters and twitter accounts about neural networks. Use them to find inspiration for your project. Students at Stanford have their _Deep Learning_ projects [online](https://cs230.stanford.edu/past-projects/), see what they are up to. [PaperWithCode](https://paperswithcode.com/sota) is a repository of academic papers, see what tasks are solved there. _FirmAI_ has repositories of interesting [business](https://github.com/firmai/business-machine-learning) and [industry](https://github.com/firmai/industry-machine-learning) applications of machine learning. However not all of these are well suited for deep learning.\n",
    "\n",
    "### Submission\n",
    "\n",
    "Submit your proposal as a MarkDown document containing following parts:\n",
    "\n",
    "1. _Motivation_ - What task will you solve, why is this task important, what are the open questions.\n",
    "2. _Related Work_ - Shortly describe how were similar problems solved by other people.\n",
    "3. _Data Analysis_ - What data exist that can be used to train the task, how much data is available, what are the properties of these data.\n",
    "4. (Optional) _High-Level Solution Proposal_ - If you know already, what will be the architecture of the model, what experiments would you like to perform. This point might also be consulted in following weeks.\n",
    "\n",
    "This document should be versioned on your GitHub and submitted to AIS before the deadline.\n",
    "\n",
    "\n",
    "## 9th/10th week: Checkpoint\n",
    "- what should be done\n",
    "- what should be documented\n",
    "\n",
    "## 11th/12th week: Finish\n",
    "- what should be done\n",
    "- what should be documented\n",
    "- what should be put in presentation"
   ]
  },
  {
   "cell_type": "code",
   "execution_count": null,
   "metadata": {},
   "outputs": [],
   "source": []
  }
 ],
 "metadata": {
  "kernelspec": {
   "display_name": "Python 3",
   "language": "python",
   "name": "python3"
  },
  "language_info": {
   "codemirror_mode": {
    "name": "ipython",
    "version": 3
   },
   "file_extension": ".py",
   "mimetype": "text/x-python",
   "name": "python",
   "nbconvert_exporter": "python",
   "pygments_lexer": "ipython3",
   "version": "3.6.8"
  }
 },
 "nbformat": 4,
 "nbformat_minor": 2
}
